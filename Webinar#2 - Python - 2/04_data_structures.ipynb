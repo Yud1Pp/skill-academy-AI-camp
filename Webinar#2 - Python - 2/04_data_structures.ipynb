{
  "cells": [
    {
      "cell_type": "markdown",
      "metadata": {
        "id": "view-in-github",
        "colab_type": "text"
      },
      "source": [
        "<a href=\"https://colab.research.google.com/github/Yud1Pp/skill-academy-AI-camp/blob/main/Webinar%232%20-%20Python%20-%202/04_data_structures.ipynb\" target=\"_parent\"><img src=\"https://colab.research.google.com/assets/colab-badge.svg\" alt=\"Open In Colab\"/></a>"
      ]
    },
    {
      "cell_type": "markdown",
      "source": [
        "# Session #2 - Python #2\n",
        "- Adipta Martulandi (https://www.linkedin.com/in/adiptamartulandi/)\n",
        "- Agenda\n",
        "  1. 19.30-20.30 Materi Sesi 1\n",
        "  4. 20.30-20.40 Istirahat\n",
        "  5. 20.40-21.15 Materi Sesi 2\n",
        "  6. 21.15-21.30 QnA"
      ],
      "metadata": {
        "id": "2gXwypRWk7NA"
      }
    },
    {
      "cell_type": "markdown",
      "source": [
        "***"
      ],
      "metadata": {
        "id": "4YVErZ-Ek9bm"
      }
    },
    {
      "cell_type": "markdown",
      "source": [
        "***"
      ],
      "metadata": {
        "id": "OGx_p-yumr4X"
      }
    },
    {
      "cell_type": "markdown",
      "source": [
        "***"
      ],
      "metadata": {
        "id": "ig6Hx7ummtIm"
      }
    },
    {
      "cell_type": "markdown",
      "source": [
        "***"
      ],
      "metadata": {
        "id": "TvqQcshDmuNg"
      }
    },
    {
      "cell_type": "markdown",
      "metadata": {
        "id": "7rKaj0dtpQ32"
      },
      "source": [
        "# Data Structures\n",
        "\n",
        "Data structures are essential for organizing, managing, and storing data in a program. Python provides built-in data structures like Lists, Tuples, Sets, and Dictionaries that offer different functionalities and use cases. For more information on Python data structures and their methods, you can visit [learnpython](www.learnpython.org)."
      ]
    },
    {
      "cell_type": "markdown",
      "metadata": {
        "id": "Mr5zolTwpQ34"
      },
      "source": [
        "## List\n",
        "\n",
        "- Ordering: Lists are ordered collections.\n",
        "- Mutability: Lists are mutable; they can be modified after creation.\n",
        "- Duplicates: Lists allow duplicate elements.\n",
        "- Syntax: Lists are created using square brackets `[]`.\n",
        "\n",
        "A common use case for lists is storing and accessing a collection of items in a specific order."
      ]
    },
    {
      "cell_type": "code",
      "source": [
        "# Creating a list of student names\n",
        "student_names = [\"Alice\", \"Bob\", \"Charlie\", \"David\", \"Charlie\"]"
      ],
      "metadata": {
        "id": "rPzWvbZLpvDF"
      },
      "execution_count": null,
      "outputs": []
    },
    {
      "cell_type": "code",
      "source": [
        "student_names"
      ],
      "metadata": {
        "colab": {
          "base_uri": "https://localhost:8080/"
        },
        "id": "djwU2y8QpwZg",
        "outputId": "2eec6486-755f-403e-be52-52480b502b04"
      },
      "execution_count": null,
      "outputs": [
        {
          "output_type": "execute_result",
          "data": {
            "text/plain": [
              "['Alice', 'Bob', 'Charlie', 'David', 'Charlie']"
            ]
          },
          "metadata": {},
          "execution_count": 2
        }
      ]
    },
    {
      "cell_type": "code",
      "source": [
        "type(student_names)"
      ],
      "metadata": {
        "colab": {
          "base_uri": "https://localhost:8080/"
        },
        "id": "cQFZue_jpyOO",
        "outputId": "462a7db8-11a8-4198-dee0-056dc938cc49"
      },
      "execution_count": null,
      "outputs": [
        {
          "output_type": "execute_result",
          "data": {
            "text/plain": [
              "list"
            ]
          },
          "metadata": {},
          "execution_count": 3
        }
      ]
    },
    {
      "cell_type": "code",
      "source": [
        "# Adding a student to the list\n",
        "student_names.append(\"Eve\")"
      ],
      "metadata": {
        "id": "QFs6IF-sp6v0"
      },
      "execution_count": null,
      "outputs": []
    },
    {
      "cell_type": "code",
      "source": [
        "student_names"
      ],
      "metadata": {
        "colab": {
          "base_uri": "https://localhost:8080/"
        },
        "id": "LW85Vlw_p-Yl",
        "outputId": "2febc8fb-dd07-4297-efef-eac9cb1b6394"
      },
      "execution_count": null,
      "outputs": [
        {
          "output_type": "execute_result",
          "data": {
            "text/plain": [
              "['Alice', 'Bob', 'Charlie', 'David', 'Charlie', 'Eve']"
            ]
          },
          "metadata": {},
          "execution_count": 5
        }
      ]
    },
    {
      "cell_type": "code",
      "source": [
        "# Removing a student from the list\n",
        "student_names.remove(\"Bob\")"
      ],
      "metadata": {
        "id": "QOfQ1X-fqEL0"
      },
      "execution_count": null,
      "outputs": []
    },
    {
      "cell_type": "code",
      "source": [
        "student_names"
      ],
      "metadata": {
        "colab": {
          "base_uri": "https://localhost:8080/"
        },
        "id": "pKSFesP7qHNw",
        "outputId": "942355ee-c50f-4c53-d07d-ea4a5a0e6ba9"
      },
      "execution_count": null,
      "outputs": [
        {
          "output_type": "execute_result",
          "data": {
            "text/plain": [
              "['Alice', 'Charlie', 'David', 'Charlie', 'Eve']"
            ]
          },
          "metadata": {},
          "execution_count": 7
        }
      ]
    },
    {
      "cell_type": "code",
      "execution_count": null,
      "metadata": {
        "id": "PMX_1mVNpQ34",
        "colab": {
          "base_uri": "https://localhost:8080/"
        },
        "outputId": "dd94045b-ad9e-4a28-8544-ac19f37d958b"
      },
      "outputs": [
        {
          "output_type": "stream",
          "name": "stdout",
          "text": [
            "Alice\n",
            "Charlie\n",
            "David\n",
            "Charlie\n",
            "Eve\n"
          ]
        }
      ],
      "source": [
        "# Iterating through the list of student names\n",
        "for name in student_names:\n",
        "    print(name)"
      ]
    },
    {
      "cell_type": "code",
      "source": [
        "student_names[2]"
      ],
      "metadata": {
        "colab": {
          "base_uri": "https://localhost:8080/",
          "height": 35
        },
        "id": "E6-wWiFQqRuD",
        "outputId": "4159a91f-a8a0-444f-c618-b6bb5aee100c"
      },
      "execution_count": null,
      "outputs": [
        {
          "output_type": "execute_result",
          "data": {
            "text/plain": [
              "'David'"
            ],
            "application/vnd.google.colaboratory.intrinsic+json": {
              "type": "string"
            }
          },
          "metadata": {},
          "execution_count": 9
        }
      ]
    },
    {
      "cell_type": "code",
      "source": [
        "data_siswa_adipta = [\"AI Engineer\", 2, False, 8.5]"
      ],
      "metadata": {
        "id": "ureceBuPqnmb"
      },
      "execution_count": null,
      "outputs": []
    },
    {
      "cell_type": "code",
      "source": [
        "data_siswa_adipta[-1]"
      ],
      "metadata": {
        "colab": {
          "base_uri": "https://localhost:8080/"
        },
        "id": "T8L9zvA6q0xi",
        "outputId": "68167125-188b-4874-ff9d-7d8f2fb77cac"
      },
      "execution_count": null,
      "outputs": [
        {
          "output_type": "execute_result",
          "data": {
            "text/plain": [
              "8.5"
            ]
          },
          "metadata": {},
          "execution_count": 11
        }
      ]
    },
    {
      "cell_type": "code",
      "source": [
        "data_siswa_adipta[-2]"
      ],
      "metadata": {
        "colab": {
          "base_uri": "https://localhost:8080/"
        },
        "id": "-Zrf841Rq_et",
        "outputId": "1b0428fa-ea52-412f-dae6-a3fbf0706114"
      },
      "execution_count": null,
      "outputs": [
        {
          "output_type": "execute_result",
          "data": {
            "text/plain": [
              "False"
            ]
          },
          "metadata": {},
          "execution_count": 12
        }
      ]
    },
    {
      "cell_type": "markdown",
      "metadata": {
        "id": "PQ6ErsVEpQ36"
      },
      "source": [
        "Operations on lists:\n",
        "\n",
        "- Accessing elements: `student_names[1]` returns `\"Bob\"`.\n",
        "- Modifying elements: `student_names[0] = \"Bryan\"` changes the first element to `Bryan`.\n",
        "- Adding elements: `student_names.append(\"Eric\")` adds `\"Eric\"` to the end of the list.\n",
        "- Removing elements: `student_names.remove(\"Charlie\")` removes the first occurrence of `\"Charlie\"` from the list."
      ]
    },
    {
      "cell_type": "markdown",
      "metadata": {
        "id": "ByUZ9UlmpQ36"
      },
      "source": [
        "## Tuples\n",
        "\n",
        "- Ordering: Tuples are ordered collections.\n",
        "- Mutability: Tuples are immutable; they cannot be modified after creation.\n",
        "- Duplicates: Tuples allow duplicate elements.\n",
        "- Syntax: Tuples are created using round brackets `()`.\n",
        "\n",
        "Tuples are useful when you have a fixed collection of items that should not change throughout the program's execution."
      ]
    },
    {
      "cell_type": "code",
      "source": [
        "# Defining coordinates as a tuple\n",
        "coordinates = (12.34, 56.78)"
      ],
      "metadata": {
        "id": "GfJ-QZTvrONL"
      },
      "execution_count": null,
      "outputs": []
    },
    {
      "cell_type": "code",
      "source": [
        "type(coordinates)"
      ],
      "metadata": {
        "colab": {
          "base_uri": "https://localhost:8080/"
        },
        "id": "o-_yMmqsrQD2",
        "outputId": "7c91ddaa-9405-4ab5-ba62-d64b22cf5159"
      },
      "execution_count": null,
      "outputs": [
        {
          "output_type": "execute_result",
          "data": {
            "text/plain": [
              "tuple"
            ]
          },
          "metadata": {},
          "execution_count": 14
        }
      ]
    },
    {
      "cell_type": "code",
      "source": [
        "# Accessing the longitude and latitude\n",
        "longitude, latitude = coordinates"
      ],
      "metadata": {
        "id": "N6wU5Q7mrRtW"
      },
      "execution_count": null,
      "outputs": []
    },
    {
      "cell_type": "code",
      "source": [
        "longitude"
      ],
      "metadata": {
        "colab": {
          "base_uri": "https://localhost:8080/"
        },
        "id": "Hgd0Y7XnrdFk",
        "outputId": "52ce7d65-6ee0-4105-ef96-e61b25098ff6"
      },
      "execution_count": null,
      "outputs": [
        {
          "output_type": "execute_result",
          "data": {
            "text/plain": [
              "12.34"
            ]
          },
          "metadata": {},
          "execution_count": 17
        }
      ]
    },
    {
      "cell_type": "code",
      "source": [
        "coordinates.append(10)"
      ],
      "metadata": {
        "colab": {
          "base_uri": "https://localhost:8080/",
          "height": 141
        },
        "id": "0wCB3-P2re8q",
        "outputId": "5b48d85c-ab4c-47f7-862a-95b402aa400b"
      },
      "execution_count": null,
      "outputs": [
        {
          "output_type": "error",
          "ename": "AttributeError",
          "evalue": "'tuple' object has no attribute 'append'",
          "traceback": [
            "\u001b[0;31m---------------------------------------------------------------------------\u001b[0m",
            "\u001b[0;31mAttributeError\u001b[0m                            Traceback (most recent call last)",
            "\u001b[0;32m<ipython-input-18-52db659608d0>\u001b[0m in \u001b[0;36m<cell line: 1>\u001b[0;34m()\u001b[0m\n\u001b[0;32m----> 1\u001b[0;31m \u001b[0mcoordinates\u001b[0m\u001b[0;34m.\u001b[0m\u001b[0mappend\u001b[0m\u001b[0;34m(\u001b[0m\u001b[0;36m10\u001b[0m\u001b[0;34m)\u001b[0m\u001b[0;34m\u001b[0m\u001b[0;34m\u001b[0m\u001b[0m\n\u001b[0m",
            "\u001b[0;31mAttributeError\u001b[0m: 'tuple' object has no attribute 'append'"
          ]
        }
      ]
    },
    {
      "cell_type": "code",
      "execution_count": null,
      "metadata": {
        "id": "yf7HljMSpQ36"
      },
      "outputs": [],
      "source": [
        "\n",
        "\n",
        "\n",
        "\n",
        "# Tuples can be used as keys in dictionaries\n",
        "capital_cities = {(\"United States\", \"California\"): \"Sacramento\", (\"France\", \"Île-de-France\"): \"Paris\"}\n",
        "\n",
        "# Accessing the capital city of California, United States\n",
        "capital = capital_cities[(\"United States\", \"California\")]\n",
        "print(capital)"
      ]
    },
    {
      "cell_type": "markdown",
      "metadata": {
        "id": "qe-AV-UQpQ4G"
      },
      "source": [
        "## Sets\n",
        "\n",
        "- Ordering: Sets are unordered collections.\n",
        "- Mutability: Sets are mutable; they can be modified after creation.\n",
        "- Duplicates: Sets do not allow duplicate elements.\n",
        "- Syntax: Sets are created using curly brackets `{}`.\n",
        "\n",
        "Sets are useful for efficiently storing unique values and performing set operations."
      ]
    },
    {
      "cell_type": "code",
      "source": [
        "# Creating sets of unique hobbies for two people\n",
        "hobbies_alice = {\"reading\", \"hiking\", \"cooking\"}\n",
        "hobbies_bob = {\"cooking\", \"painting\", \"cycling\"}"
      ],
      "metadata": {
        "id": "Q8An_Dm4sImV"
      },
      "execution_count": null,
      "outputs": []
    },
    {
      "cell_type": "code",
      "source": [
        "type(hobbies_alice)"
      ],
      "metadata": {
        "colab": {
          "base_uri": "https://localhost:8080/"
        },
        "id": "oOs4WtVisKoT",
        "outputId": "c6b1156c-3f63-48da-b563-a1adc5057e07"
      },
      "execution_count": null,
      "outputs": [
        {
          "output_type": "execute_result",
          "data": {
            "text/plain": [
              "set"
            ]
          },
          "metadata": {},
          "execution_count": 20
        }
      ]
    },
    {
      "cell_type": "code",
      "source": [
        "hobbies_alice = {\"reading\", \"hiking\", \"cooking\", \"reading\"}"
      ],
      "metadata": {
        "id": "MzMLQvPfsNFg"
      },
      "execution_count": null,
      "outputs": []
    },
    {
      "cell_type": "code",
      "source": [
        "hobbies_alice"
      ],
      "metadata": {
        "colab": {
          "base_uri": "https://localhost:8080/"
        },
        "id": "oLUefo0_sQSK",
        "outputId": "a6c0e2f9-0c32-4ee0-8248-d25a48f45fee"
      },
      "execution_count": null,
      "outputs": [
        {
          "output_type": "execute_result",
          "data": {
            "text/plain": [
              "{'cooking', 'hiking', 'reading'}"
            ]
          },
          "metadata": {},
          "execution_count": 22
        }
      ]
    },
    {
      "cell_type": "code",
      "execution_count": null,
      "metadata": {
        "id": "EB-eU1j5pQ4G"
      },
      "outputs": [],
      "source": [
        "\n",
        "\n",
        "# Finding common hobbies\n",
        "common_hobbies = hobbies_alice.intersection(hobbies_bob)\n",
        "print(\"Common hobbies:\", common_hobbies)\n",
        "\n",
        "# Finding the union of hobbies\n",
        "all_hobbies = hobbies_alice.union(hobbies_bob)\n",
        "print(\"All hobbies:\", all_hobbies)"
      ]
    },
    {
      "cell_type": "code",
      "source": [
        "hobbies_alice.add(\"riding\")"
      ],
      "metadata": {
        "id": "tzREmo5MsdAN"
      },
      "execution_count": null,
      "outputs": []
    },
    {
      "cell_type": "code",
      "source": [
        "hobbies_alice.remove(\"reading\")"
      ],
      "metadata": {
        "id": "PEmdDLA5shUO"
      },
      "execution_count": null,
      "outputs": []
    },
    {
      "cell_type": "code",
      "source": [
        "hobbies_alice"
      ],
      "metadata": {
        "colab": {
          "base_uri": "https://localhost:8080/"
        },
        "id": "Q_UpKl8FspLN",
        "outputId": "b3e1f6d5-fd82-4450-f871-76fb44ccf957"
      },
      "execution_count": null,
      "outputs": [
        {
          "output_type": "execute_result",
          "data": {
            "text/plain": [
              "{'cooking', 'hiking', 'riding'}"
            ]
          },
          "metadata": {},
          "execution_count": 26
        }
      ]
    },
    {
      "cell_type": "markdown",
      "metadata": {
        "id": "ZiXFeqOFpQ4H"
      },
      "source": [
        "Operations on sets:\n",
        "\n",
        "- Adding elements: `hobbies_alice.add(\"riding\")` adds `\"riding\"` to the set.\n",
        "- Removing elements: `hobbies_alice.remove(\"hiking\")` removes `\"hiking\"` from the set.\n",
        "- Unions and intersections: `hobbies_alice.union(another_set)` returns a new set containing elements from both sets, while `hobbies_alice.intersection(another_set)` returns a new set containing common elements."
      ]
    },
    {
      "cell_type": "markdown",
      "metadata": {
        "id": "_7wVR31lpQ4H"
      },
      "source": [
        "## Dictionaries\n",
        "\n",
        "- Ordering: Dictionaries are unordered collections.\n",
        "- Mutability: Dictionaries are mutable; they can be modified after creation.\n",
        "- Duplicates: Dictionaries do not allow duplicate keys, but values can be duplicated.\n",
        "- Structure: Dictionaries consist of key-value pairs.\n",
        "- Syntax: Dictionaries are created using curly brackets {} with key-value pairs separated by colons.\n",
        "\n",
        "Dictionaries are useful for storing key-value pairs and efficiently accessing values using their keys."
      ]
    },
    {
      "cell_type": "code",
      "source": [
        "fish (key) --> ikan (value)"
      ],
      "metadata": {
        "id": "PszDDdWesv7K"
      },
      "execution_count": null,
      "outputs": []
    },
    {
      "cell_type": "code",
      "source": [
        "# Creating a dictionary that maps student names to their ages\n",
        "student_ages = {\"Alice\": 20,\n",
        "                \"Bob\": 22,\n",
        "                \"Charlie\": 21}"
      ],
      "metadata": {
        "id": "s731cOTSs83R"
      },
      "execution_count": null,
      "outputs": []
    },
    {
      "cell_type": "code",
      "source": [
        "student_ages"
      ],
      "metadata": {
        "colab": {
          "base_uri": "https://localhost:8080/"
        },
        "id": "uUG5rns4tB1-",
        "outputId": "19c89aed-224d-4499-a9c7-1fb794b8350f"
      },
      "execution_count": null,
      "outputs": [
        {
          "output_type": "execute_result",
          "data": {
            "text/plain": [
              "{'Alice': 20, 'Bob': 22, 'Charlie': 21}"
            ]
          },
          "metadata": {},
          "execution_count": 28
        }
      ]
    },
    {
      "cell_type": "code",
      "source": [
        "type(student_ages)"
      ],
      "metadata": {
        "colab": {
          "base_uri": "https://localhost:8080/"
        },
        "id": "hBVFSR0AtDv4",
        "outputId": "0f448662-45f4-4321-bd6f-8522595f7522"
      },
      "execution_count": null,
      "outputs": [
        {
          "output_type": "execute_result",
          "data": {
            "text/plain": [
              "dict"
            ]
          },
          "metadata": {},
          "execution_count": 29
        }
      ]
    },
    {
      "cell_type": "code",
      "source": [
        "# Adding a new student to the dictionary\n",
        "student_ages[\"David\"] = 23"
      ],
      "metadata": {
        "id": "x7r3jgBFtHW9"
      },
      "execution_count": null,
      "outputs": []
    },
    {
      "cell_type": "code",
      "source": [
        "student_ages"
      ],
      "metadata": {
        "colab": {
          "base_uri": "https://localhost:8080/"
        },
        "id": "CjK5JuZhtKYI",
        "outputId": "55feb184-85ab-45dc-8ad5-d67ec9374524"
      },
      "execution_count": null,
      "outputs": [
        {
          "output_type": "execute_result",
          "data": {
            "text/plain": [
              "{'Alice': 20, 'Bob': 22, 'Charlie': 21, 'David': 23}"
            ]
          },
          "metadata": {},
          "execution_count": 31
        }
      ]
    },
    {
      "cell_type": "code",
      "source": [
        "# Updating a student's age\n",
        "student_ages[\"Alice\"] = 21"
      ],
      "metadata": {
        "id": "2pC7f3XrtMSw"
      },
      "execution_count": null,
      "outputs": []
    },
    {
      "cell_type": "code",
      "source": [
        "student_ages"
      ],
      "metadata": {
        "colab": {
          "base_uri": "https://localhost:8080/"
        },
        "id": "FbbHxVsMtS0y",
        "outputId": "18d69211-0e7f-4fdc-8fe5-ea34878b8755"
      },
      "execution_count": null,
      "outputs": [
        {
          "output_type": "execute_result",
          "data": {
            "text/plain": [
              "{'Alice': 21, 'Bob': 22, 'Charlie': 21, 'David': 23}"
            ]
          },
          "metadata": {},
          "execution_count": 33
        }
      ]
    },
    {
      "cell_type": "code",
      "source": [
        "# Iterating through the dictionary and printing student names and ages\n",
        "for name, age in student_ages.items():\n",
        "    print(name, \"is\", age, \"years old\")"
      ],
      "metadata": {
        "colab": {
          "base_uri": "https://localhost:8080/"
        },
        "id": "HrMPntB5tWpT",
        "outputId": "fc5281fa-2779-41fb-b9ca-17f99c57f4a9"
      },
      "execution_count": null,
      "outputs": [
        {
          "output_type": "stream",
          "name": "stdout",
          "text": [
            "Alice is 21 years old\n",
            "Bob is 22 years old\n",
            "Charlie is 21 years old\n",
            "David is 23 years old\n"
          ]
        }
      ]
    },
    {
      "cell_type": "code",
      "source": [
        "for name in student_ages.keys():\n",
        "    print(name)"
      ],
      "metadata": {
        "colab": {
          "base_uri": "https://localhost:8080/"
        },
        "id": "6g-Ci2xBte9M",
        "outputId": "ca8dfde8-9a09-4087-e592-6f7193d02110"
      },
      "execution_count": null,
      "outputs": [
        {
          "output_type": "stream",
          "name": "stdout",
          "text": [
            "Alice\n",
            "Bob\n",
            "Charlie\n",
            "David\n"
          ]
        }
      ]
    },
    {
      "cell_type": "code",
      "source": [
        "for age in student_ages.values():\n",
        "    print(age)"
      ],
      "metadata": {
        "colab": {
          "base_uri": "https://localhost:8080/"
        },
        "id": "7cp7KGcUtj1Z",
        "outputId": "f148b53d-21a7-4f76-8bbe-33ee4014418c"
      },
      "execution_count": null,
      "outputs": [
        {
          "output_type": "stream",
          "name": "stdout",
          "text": [
            "21\n",
            "22\n",
            "21\n",
            "23\n"
          ]
        }
      ]
    },
    {
      "cell_type": "code",
      "execution_count": null,
      "metadata": {
        "id": "ECLmdQUzpQ4H"
      },
      "outputs": [],
      "source": [
        "\n",
        "\n",
        "\n",
        "\n",
        "\n",
        "\n"
      ]
    },
    {
      "cell_type": "markdown",
      "metadata": {
        "id": "BD_0QwOHpQ4I"
      },
      "source": [
        "Operations on dictionaries:\n",
        "\n",
        "- Accessing values: `student_ages[\"Alice\"]` returns `20`.\n",
        "- Modifying values: `student_ages[\"Alice\"] = 21` changes the value of `\"Alice\"` to `21`.\n",
        "- Adding key-value pairs: `student_ages[\"Fulan\"] = 20` adds a new key-value pair to the dictionary.\n",
        "- Removing key-value pairs: `student_ages.pop(\"Fulan\")` removes the key-value pair with the key `\"Fulan\"`."
      ]
    },
    {
      "cell_type": "markdown",
      "metadata": {
        "id": "oPV6GYjXpQ4I"
      },
      "source": [
        "## Exercise Data Structures"
      ]
    },
    {
      "cell_type": "code",
      "execution_count": 1,
      "metadata": {
        "id": "u-D8zfBlpQ4I",
        "outputId": "7539129d-a87c-4ee2-a11d-4480814bad01",
        "colab": {
          "base_uri": "https://localhost:8080/"
        }
      },
      "outputs": [
        {
          "output_type": "stream",
          "name": "stdout",
          "text": [
            "Collecting rggrader\n",
            "  Downloading rggrader-0.1.6-py3-none-any.whl (2.5 kB)\n",
            "Requirement already satisfied: requests in /usr/local/lib/python3.10/dist-packages (from rggrader) (2.31.0)\n",
            "Requirement already satisfied: pandas in /usr/local/lib/python3.10/dist-packages (from rggrader) (2.0.3)\n",
            "Requirement already satisfied: Pillow in /usr/local/lib/python3.10/dist-packages (from rggrader) (9.4.0)\n",
            "Requirement already satisfied: python-dateutil>=2.8.2 in /usr/local/lib/python3.10/dist-packages (from pandas->rggrader) (2.8.2)\n",
            "Requirement already satisfied: pytz>=2020.1 in /usr/local/lib/python3.10/dist-packages (from pandas->rggrader) (2023.4)\n",
            "Requirement already satisfied: tzdata>=2022.1 in /usr/local/lib/python3.10/dist-packages (from pandas->rggrader) (2024.1)\n",
            "Requirement already satisfied: numpy>=1.21.0 in /usr/local/lib/python3.10/dist-packages (from pandas->rggrader) (1.25.2)\n",
            "Requirement already satisfied: charset-normalizer<4,>=2 in /usr/local/lib/python3.10/dist-packages (from requests->rggrader) (3.3.2)\n",
            "Requirement already satisfied: idna<4,>=2.5 in /usr/local/lib/python3.10/dist-packages (from requests->rggrader) (3.7)\n",
            "Requirement already satisfied: urllib3<3,>=1.21.1 in /usr/local/lib/python3.10/dist-packages (from requests->rggrader) (2.0.7)\n",
            "Requirement already satisfied: certifi>=2017.4.17 in /usr/local/lib/python3.10/dist-packages (from requests->rggrader) (2024.7.4)\n",
            "Requirement already satisfied: six>=1.5 in /usr/local/lib/python3.10/dist-packages (from python-dateutil>=2.8.2->pandas->rggrader) (1.16.0)\n",
            "Installing collected packages: rggrader\n",
            "Successfully installed rggrader-0.1.6\n"
          ]
        }
      ],
      "source": [
        "!pip install rggrader"
      ]
    },
    {
      "cell_type": "code",
      "execution_count": 2,
      "metadata": {
        "id": "6Ep_tbfBpQ4I"
      },
      "outputs": [],
      "source": [
        "# @title #### Student Identity\n",
        "student_id = \"REAFFJLY\" # @param {type:\"string\"}\n",
        "name = \"Yudi Pratama Putra\" # @param {type:\"string\"}"
      ]
    },
    {
      "cell_type": "code",
      "execution_count": 3,
      "metadata": {
        "id": "sKWqnEJHpQ4I",
        "outputId": "2e45ac75-8a0a-4f09-cb34-98d89849f191",
        "colab": {
          "base_uri": "https://localhost:8080/",
          "height": 52
        }
      },
      "outputs": [
        {
          "output_type": "stream",
          "name": "stdout",
          "text": [
            "The final fruits list is ['Apple', 'Cherry', 'Dragonfruit', 'Elderberry']\n"
          ]
        },
        {
          "output_type": "execute_result",
          "data": {
            "text/plain": [
              "'Assignment successfully submitted'"
            ],
            "application/vnd.google.colaboratory.intrinsic+json": {
              "type": "string"
            }
          },
          "metadata": {},
          "execution_count": 3
        }
      ],
      "source": [
        "from os import remove\n",
        "# @title #### 00. Fun with Fruits\n",
        "from rggrader import submit\n",
        "\n",
        "# TODO: Create a list 'fruits' that contains \"Apple\", \"Banana\", and \"Cherry\".\n",
        "# Then remove \"Banana\" from the 'fruits' list and append \"Dragonfruit\" and \"Elderberry\".\n",
        "fruits = [\"Apple\", \"Banana\", \"Cherry\"]\n",
        "\n",
        "# Put your code here:\n",
        "fruits.remove(\"Banana\")\n",
        "fruits.append(\"Dragonfruit\")\n",
        "fruits.append(\"Elderberry\")\n",
        "\n",
        "\n",
        "# ---- End of your code ----\n",
        "\n",
        "print(f\"The final fruits list is {fruits}\")\n",
        "\n",
        "# Submit Method\n",
        "assignment_id = \"03-data-structures\"\n",
        "question_id = \"00_fun_with_fruits\"\n",
        "submit(student_id, name, assignment_id, \", \".join(fruits), question_id)\n",
        "\n",
        "# Example:\n",
        "# List: [\"Peach\", \"Pear\", \"Plum\"]\n",
        "# Remove: \"Pear\"\n",
        "# Append: [\"Grape\", \"Guava\"]\n",
        "# Output: ['Peach', 'Plum', 'Grape', 'Guava']"
      ]
    },
    {
      "cell_type": "code",
      "execution_count": 5,
      "metadata": {
        "id": "KPa69G7LpQ4J",
        "outputId": "269cce47-fba1-43db-8436-daa91c7f9078",
        "colab": {
          "base_uri": "https://localhost:8080/",
          "height": 52
        }
      },
      "outputs": [
        {
          "output_type": "stream",
          "name": "stdout",
          "text": [
            "The coordinates for Brussels are (50.85, 4.35)\n"
          ]
        },
        {
          "output_type": "execute_result",
          "data": {
            "text/plain": [
              "'Assignment successfully submitted'"
            ],
            "application/vnd.google.colaboratory.intrinsic+json": {
              "type": "string"
            }
          },
          "metadata": {},
          "execution_count": 5
        }
      ],
      "source": [
        "# @title #### 01. Trip to Brussels\n",
        "from rggrader import submit\n",
        "\n",
        "# TODO: You're planning a trip to Brussels! Create a tuple 'coordinates' that represents a longitude\n",
        "#       of 50.85 and a latitude of 4.35 (which is the coordinates of Brussels).\n",
        "\n",
        "\n",
        "# Put your code here:\n",
        "Longitude = 50.85\n",
        "Latitude = 4.35\n",
        "coordinates = (Longitude, Latitude)\n",
        "\n",
        "# ---- End of your code ----\n",
        "\n",
        "print(f\"The coordinates for Brussels are {coordinates}\")\n",
        "\n",
        "# Submit Method\n",
        "assignment_id = \"03-data-structures\"\n",
        "question_id = \"01_trip_to_brussels\"\n",
        "submit(student_id, name, assignment_id, \", \".join(map(str, coordinates)), question_id)\n",
        "\n",
        "# Example:\n",
        "# Longitude: 60.17\n",
        "# Latitude: 24.94\n",
        "# Output: (60.17, 24.94)"
      ]
    },
    {
      "cell_type": "code",
      "execution_count": 6,
      "metadata": {
        "id": "gJNV9nxApQ4J",
        "outputId": "ce04af9b-d1a8-490a-f271-1796c89b8d6c",
        "colab": {
          "base_uri": "https://localhost:8080/",
          "height": 52
        }
      },
      "outputs": [
        {
          "output_type": "stream",
          "name": "stdout",
          "text": [
            "The final ages dictionary is {'Alice': 26, 'Bob': 30, 'Charlie': 35, 'David': 40}\n"
          ]
        },
        {
          "output_type": "execute_result",
          "data": {
            "text/plain": [
              "'Assignment successfully submitted'"
            ],
            "application/vnd.google.colaboratory.intrinsic+json": {
              "type": "string"
            }
          },
          "metadata": {},
          "execution_count": 6
        }
      ],
      "source": [
        "# @title #### 02. Birthday Party\n",
        "from rggrader import submit\n",
        "\n",
        "# TODO: You're throwing a birthday party! Create a dictionary 'ages' that contains key-value pairs of your friends' names\n",
        "#       and their ages: \"Alice\": 25, \"Bob\": 30, \"Charlie\": 35.\n",
        "# Alice just had her birthday! So, change the age of \"Alice\" to 26. Then, add your friend \"David\" who is 40 to the party.\n",
        "\n",
        "\n",
        "# Put your code here:\n",
        "ages = {\n",
        "    \"Alice\": 25,\n",
        "    \"Bob\": 30,\n",
        "    \"Charlie\": 35\n",
        "}\n",
        "\n",
        "ages[\"Alice\"] = 26\n",
        "ages[\"David\"] = 40\n",
        "\n",
        "\n",
        "# ---- End of your code ----\n",
        "\n",
        "print(f\"The final ages dictionary is {ages}\")\n",
        "\n",
        "# Submit Method\n",
        "assignment_id = \"03-data-structures\"\n",
        "question_id = \"02_birthday_party\"\n",
        "submit(student_id, name, assignment_id, str(ages), question_id)\n",
        "\n",
        "# Example:\n",
        "# Dictionary: {\"John\": 28, \"Linda\": 25, \"Peter\": 30}\n",
        "# Change Age: John turns 29\n",
        "# Add New Friend: {\"Mary\": 32}\n",
        "# Output: {\"John\": 29, \"Linda\": 25, \"Peter\": 30, \"Mary\": 32}"
      ]
    },
    {
      "cell_type": "code",
      "execution_count": 12,
      "metadata": {
        "id": "LqxIzbgIpQ4J",
        "outputId": "75ef0194-4aad-4691-bd2a-52bd0554eb00",
        "colab": {
          "base_uri": "https://localhost:8080/",
          "height": 87
        }
      },
      "outputs": [
        {
          "output_type": "stream",
          "name": "stdout",
          "text": [
            "5\n",
            "4\n",
            "The count of odd numbers is 5 and the count of even numbers is 4\n"
          ]
        },
        {
          "output_type": "execute_result",
          "data": {
            "text/plain": [
              "'Assignment successfully submitted'"
            ],
            "application/vnd.google.colaboratory.intrinsic+json": {
              "type": "string"
            }
          },
          "metadata": {},
          "execution_count": 12
        }
      ],
      "source": [
        "# @title #### 03. Count Odd and Even\n",
        "from rggrader import submit\n",
        "\n",
        "# TODO: Create a list 'series' that contains the numbers 1, 2, 3, 4, 5, 6, 7, 8, 9.\n",
        "# Write a program to count the number of odd and even numbers from a series of numbers.\n",
        "\n",
        "series = [1, 2, 3, 4, 5, 6, 7, 8, 9]\n",
        "odd_count = len(list(filter(lambda x: x % 2 != 0, series)))\n",
        "even_count = len(list(filter(lambda x: x % 2 == 0, series)))\n",
        "\n",
        "# Put your code here:\n",
        "print(odd_count)\n",
        "print(even_count)\n",
        "\n",
        "# ---- End of your code ----\n",
        "\n",
        "print(f\"The count of odd numbers is {odd_count} and the count of even numbers is {even_count}\")\n",
        "\n",
        "# Submit Method\n",
        "assignment_id = \"01-control-structures\"\n",
        "question_id = \"03_count-odd-even\"\n",
        "submit(student_id, name, assignment_id, str(odd_count) + ' ' + str(even_count), question_id)\n",
        "\n",
        "# Example:\n",
        "# Series: [2, 4, 6, 7, 9, 11, 13, 15]\n",
        "# Output: The count of odd numbers is 5 and the count of even numbers is 3"
      ]
    },
    {
      "cell_type": "code",
      "execution_count": 19,
      "metadata": {
        "id": "nJHsojtcpQ4J",
        "colab": {
          "base_uri": "https://localhost:8080/",
          "height": 52
        },
        "outputId": "ba5d2330-34ef-4cd8-ea86-78675db36e04"
      },
      "outputs": [
        {
          "output_type": "stream",
          "name": "stdout",
          "text": [
            "The final fruits set is {'Dragonfruit', 'Elderberry', 'Apple', 'Cherry'}\n"
          ]
        },
        {
          "output_type": "execute_result",
          "data": {
            "text/plain": [
              "'Assignment successfully submitted'"
            ],
            "application/vnd.google.colaboratory.intrinsic+json": {
              "type": "string"
            }
          },
          "metadata": {},
          "execution_count": 19
        }
      ],
      "source": [
        "# @title #### 04. Fun with Sets\n",
        "# from rggrader import submit\n",
        "\n",
        "# TODO: Create a set 'fruits' that contains \"Apple\", \"Banana\", and \"Cherry\".\n",
        "# Then remove \"Banana\" from the 'fruits' set and add \"Dragonfruit\" and \"Elderberry\".\n",
        "\n",
        "\n",
        "# Put your code here:\n",
        "fruits = set([\"Apple\", \"Banana\", \"Cherry\"])\n",
        "\n",
        "\n",
        "# ---- End of your code ----\n",
        "fruits.remove(\"Banana\")\n",
        "fruits.add(\"Dragonfruit\")\n",
        "fruits.add(\"Elderberry\")\n",
        "\n",
        "print(f\"The final fruits set is {fruits}\")\n",
        "\n",
        "# Submit Method\n",
        "assignment_id = \"03-data-structures\"\n",
        "question_id = \"04_fun_with_sets\"\n",
        "submit(student_id, name, assignment_id, \", \".join(fruits), question_id)\n",
        "\n",
        "# Note: set is an unordered collection of items, so the output can be in any order.\n",
        "\n",
        "# Example:\n",
        "# Set: {\"Peach\", \"Pear\", \"Plum\"}\n",
        "# Remove: \"Pear\"\n",
        "# Add: {\"Grape\", \"Guava\"}\n",
        "# Output: {\"Peach\", \"Plum\", \"Grape\", \"Guava\"}"
      ]
    },
    {
      "cell_type": "code",
      "execution_count": 25,
      "metadata": {
        "id": "3i12dbD9pQ4J",
        "outputId": "1574b68c-07e8-420b-8125-67da6dd0052c",
        "colab": {
          "base_uri": "https://localhost:8080/",
          "height": 52
        }
      },
      "outputs": [
        {
          "output_type": "stream",
          "name": "stdout",
          "text": [
            "The final city_coordinates dictionary is {'CityA': (10.0, 20.0), 'CityB': (30.0, 40.0), 'CityC': (50.0, 60.0)}\n"
          ]
        },
        {
          "output_type": "execute_result",
          "data": {
            "text/plain": [
              "'Assignment successfully submitted'"
            ],
            "application/vnd.google.colaboratory.intrinsic+json": {
              "type": "string"
            }
          },
          "metadata": {},
          "execution_count": 25
        }
      ],
      "source": [
        "# @title #### 05. Pair Coordinates\n",
        "from rggrader import submit\n",
        "\n",
        "# TODO: You're given two lists of cities and their coordinates.\n",
        "# cities = ['CityA', 'CityB', 'CityC']\n",
        "# coordinates = [(10.00, 20.00), (30.00, 40.00), (50.00, 60.00)]\n",
        "# Create a dictionary 'city_coordinates' that contains cities as keys and their coordinates as values.\n",
        "\n",
        "cities = tuple(['CityA', 'CityB', 'CityC'])\n",
        "coordinates = [(10.00, 20.00), (30.00, 40.00), (50.00, 60.00)]\n",
        "# city_coordinates = {\n",
        "#     cities[0]: coordinates[0],\n",
        "#     cities[1]: coordinates[1],\n",
        "#     cities[2]: coordinates[2]\n",
        "# }\n",
        "\n",
        "# Put your code here:\n",
        "city_coordinates = {city : coord for city, coord in zip(cities, coordinates)}\n",
        "\n",
        "\n",
        "# ---- End of your code ----\n",
        "\n",
        "print(f\"The final city_coordinates dictionary is {city_coordinates}\")\n",
        "\n",
        "# Submit Method\n",
        "assignment_id = \"03-data-structures\"\n",
        "question_id = \"05_pair_coordinates\"\n",
        "submit(student_id, name, assignment_id, str(city_coordinates), question_id)\n",
        "\n",
        "# Example:\n",
        "# Cities: ['Helsinki', 'Oslo', 'Copenhagen']\n",
        "# Coordinates: [(60.17, 24.94), (59.91, 10.75), (55.67, 12.57)]\n",
        "# Output: {'Helsinki': (60.17, 24.94), 'Oslo': (59.91, 10.75), 'Copenhagen': (55.67, 12.57)}"
      ]
    }
  ],
  "metadata": {
    "kernelspec": {
      "display_name": "Python 3 (ipykernel)",
      "language": "python",
      "name": "python3"
    },
    "language_info": {
      "codemirror_mode": {
        "name": "ipython",
        "version": 3
      },
      "file_extension": ".py",
      "mimetype": "text/x-python",
      "name": "python",
      "nbconvert_exporter": "python",
      "pygments_lexer": "ipython3",
      "version": "3.11.3"
    },
    "colab": {
      "provenance": [],
      "include_colab_link": true
    }
  },
  "nbformat": 4,
  "nbformat_minor": 0
}