{
  "cells": [
    {
      "cell_type": "markdown",
      "metadata": {
        "id": "view-in-github",
        "colab_type": "text"
      },
      "source": [
        "<a href=\"https://colab.research.google.com/github/Yud1Pp/skill-academy-AI-camp/blob/main/Webinar%232%20-%20Python%20-%202/05_modules_and_packages.ipynb\" target=\"_parent\"><img src=\"https://colab.research.google.com/assets/colab-badge.svg\" alt=\"Open In Colab\"/></a>"
      ]
    },
    {
      "cell_type": "markdown",
      "metadata": {
        "id": "St9PbPlxprzO"
      },
      "source": [
        "# Modules and Packages"
      ]
    },
    {
      "cell_type": "markdown",
      "metadata": {
        "id": "conBEJhVprzT"
      },
      "source": [
        "Modules and packages are useful for organization of Python code making our code clean, modular and easy to maintain."
      ]
    },
    {
      "cell_type": "markdown",
      "metadata": {
        "id": "eU2cBK0YprzU"
      },
      "source": [
        "## Python Modules\n",
        "\n",
        "In Python, a module is a file containing Python code, which can include functions, classes, or variables. Modules help us to organize and reuse our code effectively."
      ]
    },
    {
      "cell_type": "markdown",
      "metadata": {
        "id": "8BjqQ34eprzU"
      },
      "source": [
        ">Note: For the following examples, you need to create manually `mod.py` and the new file using your own code editor, simply copy and paste the code into two separate files."
      ]
    },
    {
      "cell_type": "markdown",
      "metadata": {
        "id": "sZQZEuinprzV"
      },
      "source": [
        "## Create a Module\n",
        "\n",
        "To create a module we simply write our Python code into a file and give it a name with `.py` extension, in this case we shall name it `mod.py`."
      ]
    },
    {
      "cell_type": "markdown",
      "metadata": {
        "id": "kWnfUV_SprzV"
      },
      "source": [
        "```python\n",
        "#mod.py\n",
        "s = \"I'm learning Python in order to become an AI engineer.\"\n",
        "a = [100, 200, 300]\n",
        "\n",
        "def foo(arg):\n",
        "    print(f'arg = {arg}')\n",
        "```"
      ]
    },
    {
      "cell_type": "code",
      "source": [
        "%%writefile mod.py\n",
        "\n",
        "s = \"I'm learning Python in order to become an AI engineer.\"\n",
        "a = [100, 200, 300]\n",
        "\n",
        "def subtraction(x, y):\n",
        "  return x - y"
      ],
      "metadata": {
        "colab": {
          "base_uri": "https://localhost:8080/"
        },
        "id": "sngJNRvruRXh",
        "outputId": "547171ab-ea55-42ba-b93e-9a31e0f4f02c"
      },
      "execution_count": null,
      "outputs": [
        {
          "output_type": "stream",
          "name": "stdout",
          "text": [
            "Writing mod.py\n"
          ]
        }
      ]
    },
    {
      "cell_type": "markdown",
      "metadata": {
        "id": "RTJxdUagprzV"
      },
      "source": [
        "## Using Modules\n",
        "\n",
        "To use a module, we use the keyword `import`. After importing a module, you can use its functions and classes by using the module name followed by a dot, and then the function or class you want to use."
      ]
    },
    {
      "cell_type": "markdown",
      "metadata": {
        "id": "nKDCGZpEprzW"
      },
      "source": [
        "```python\n",
        "import mod\n",
        "print(mod.s)\n",
        "\n",
        "mod.a\n",
        "\n",
        "mod.foo(['quux', 'corge', 'grault'])\n",
        "```"
      ]
    },
    {
      "cell_type": "code",
      "source": [
        "import mod"
      ],
      "metadata": {
        "id": "Xvowr2wUupGQ"
      },
      "execution_count": null,
      "outputs": []
    },
    {
      "cell_type": "code",
      "source": [
        "mod.a"
      ],
      "metadata": {
        "colab": {
          "base_uri": "https://localhost:8080/"
        },
        "id": "1xaTxg0Iuvkd",
        "outputId": "57e891ea-5830-4c2a-a0ef-13dfa29d4294"
      },
      "execution_count": null,
      "outputs": [
        {
          "output_type": "execute_result",
          "data": {
            "text/plain": [
              "[100, 200, 300]"
            ]
          },
          "metadata": {},
          "execution_count": 3
        }
      ]
    },
    {
      "cell_type": "code",
      "source": [
        "mod.s"
      ],
      "metadata": {
        "colab": {
          "base_uri": "https://localhost:8080/",
          "height": 35
        },
        "id": "AOCx8XQ6u2C5",
        "outputId": "41b27403-0f19-459b-a6f1-c507410d924c"
      },
      "execution_count": null,
      "outputs": [
        {
          "output_type": "execute_result",
          "data": {
            "text/plain": [
              "\"I'm learning Python in order to become an AI engineer.\""
            ],
            "application/vnd.google.colaboratory.intrinsic+json": {
              "type": "string"
            }
          },
          "metadata": {},
          "execution_count": 4
        }
      ]
    },
    {
      "cell_type": "code",
      "source": [
        "mod.subtraction(10, 5)"
      ],
      "metadata": {
        "colab": {
          "base_uri": "https://localhost:8080/"
        },
        "id": "Tc5LoPp0u7LX",
        "outputId": "7c51064c-d7d7-4631-e7ef-9eb653d017a1"
      },
      "execution_count": null,
      "outputs": [
        {
          "output_type": "execute_result",
          "data": {
            "text/plain": [
              "5"
            ]
          },
          "metadata": {},
          "execution_count": 5
        }
      ]
    },
    {
      "cell_type": "code",
      "source": [
        "from mod import subtraction"
      ],
      "metadata": {
        "id": "D32dpBdrvCAl"
      },
      "execution_count": null,
      "outputs": []
    },
    {
      "cell_type": "code",
      "source": [
        "subtraction(10, 8)"
      ],
      "metadata": {
        "colab": {
          "base_uri": "https://localhost:8080/"
        },
        "id": "39eqRcwTvF2c",
        "outputId": "3a01fd35-dd49-4558-c7ac-99248e8d0965"
      },
      "execution_count": null,
      "outputs": [
        {
          "output_type": "execute_result",
          "data": {
            "text/plain": [
              "2"
            ]
          },
          "metadata": {},
          "execution_count": 7
        }
      ]
    },
    {
      "cell_type": "markdown",
      "metadata": {
        "id": "Hi5BxHXBprzX"
      },
      "source": [
        "## Package Management with pip\n",
        "\n",
        "\n",
        "`pip` is the package manager for Python, and it allows you to easily install, update, and remove packages. Packages are collections of modules that provide additional functionality. You can download packages from the Python Package Index (PyPI)."
      ]
    },
    {
      "cell_type": "markdown",
      "metadata": {
        "id": "mJCVx25MprzX"
      },
      "source": [
        "### Basic commands\n",
        "\n",
        "Here is a list of basic commands for package management with pip:\n",
        "\n",
        "- To install a package: `pip install package_name`\n",
        "- To update a package: `pip install --upgrade package_name`\n",
        "- To remove a package: `pip uninstall package_name`\n",
        "- To list installed packages: `pip list`"
      ]
    },
    {
      "cell_type": "code",
      "source": [
        "!pip install openai"
      ],
      "metadata": {
        "id": "SlLk2HCIv2S_"
      },
      "execution_count": null,
      "outputs": []
    },
    {
      "cell_type": "code",
      "source": [
        "from openai import OpenAI"
      ],
      "metadata": {
        "id": "9gRAE9yFvg7X"
      },
      "execution_count": null,
      "outputs": []
    },
    {
      "cell_type": "markdown",
      "metadata": {
        "id": "dVPPt2QsprzY"
      },
      "source": [
        "### Requirements file\n",
        "\n",
        "A `requirements.txt` file helps you to manage package dependencies for your project. It lists the package names with their version numbers that your project depends on.\n",
        "\n",
        "You can create this file manually or generate it using `pip freeze > requirements.txt`."
      ]
    },
    {
      "cell_type": "markdown",
      "metadata": {
        "id": "VPUL4bl2przY"
      },
      "source": [
        "The file should list one package per line\n",
        "\n",
        "```txt\n",
        "numpy==1.21.2\n",
        "pandas==1.3.3\n",
        "matplotlib==3.4.3\n",
        "```\n",
        "\n",
        "Use the `pip install -r requirements.txt` command to update the installed packages according to the new `requirements.txt` file."
      ]
    },
    {
      "cell_type": "code",
      "source": [
        "%%writefile requirements.txt\n",
        "beautifulsoup4\n",
        "fake_useragent\n",
        "imageio\n",
        "keras ; python_version < '3.12'\n",
        "lxml\n",
        "matplotlib\n",
        "numpy\n",
        "opencv-python\n",
        "pandas\n",
        "pillow\n",
        "# projectq  # uncomment once quantum/quantum_random.py is fixed\n",
        "qiskit ; python_version < '3.12'\n",
        "qiskit-aer ; python_version < '3.12'\n",
        "requests\n",
        "rich\n",
        "# scikit-fuzzy  # uncomment once fuzzy_logic/fuzzy_operations.py is fixed\n",
        "scikit-learn\n",
        "statsmodels\n",
        "sympy\n",
        "tensorflow\n",
        "tweepy\n",
        "# yulewalker  # uncomment once audio_filters/equal_loudness_filter.py is fixed\n",
        "typing_extensions\n",
        "xgboost"
      ],
      "metadata": {
        "colab": {
          "base_uri": "https://localhost:8080/"
        },
        "id": "K6QCe3EEx1dd",
        "outputId": "93531952-5d07-40b3-b004-910df9f8bcf7"
      },
      "execution_count": null,
      "outputs": [
        {
          "output_type": "stream",
          "name": "stdout",
          "text": [
            "Writing requirements.txt\n"
          ]
        }
      ]
    },
    {
      "cell_type": "code",
      "source": [
        "!pip install -U openai"
      ],
      "metadata": {
        "colab": {
          "base_uri": "https://localhost:8080/"
        },
        "id": "lVIMp0NNyJBx",
        "outputId": "98af18cd-9582-4884-a463-27d7b189266c"
      },
      "execution_count": null,
      "outputs": [
        {
          "output_type": "stream",
          "name": "stdout",
          "text": [
            "Requirement already satisfied: openai in /usr/local/lib/python3.10/dist-packages (1.14.3)\n",
            "Requirement already satisfied: anyio<5,>=3.5.0 in /usr/local/lib/python3.10/dist-packages (from openai) (3.7.1)\n",
            "Requirement already satisfied: distro<2,>=1.7.0 in /usr/lib/python3/dist-packages (from openai) (1.7.0)\n",
            "Requirement already satisfied: httpx<1,>=0.23.0 in /usr/local/lib/python3.10/dist-packages (from openai) (0.27.0)\n",
            "Requirement already satisfied: pydantic<3,>=1.9.0 in /usr/local/lib/python3.10/dist-packages (from openai) (2.6.4)\n",
            "Requirement already satisfied: sniffio in /usr/local/lib/python3.10/dist-packages (from openai) (1.3.1)\n",
            "Requirement already satisfied: tqdm>4 in /usr/local/lib/python3.10/dist-packages (from openai) (4.66.2)\n",
            "Requirement already satisfied: typing-extensions<5,>=4.7 in /usr/local/lib/python3.10/dist-packages (from openai) (4.10.0)\n",
            "Requirement already satisfied: idna>=2.8 in /usr/local/lib/python3.10/dist-packages (from anyio<5,>=3.5.0->openai) (3.6)\n",
            "Requirement already satisfied: exceptiongroup in /usr/local/lib/python3.10/dist-packages (from anyio<5,>=3.5.0->openai) (1.2.0)\n",
            "Requirement already satisfied: certifi in /usr/local/lib/python3.10/dist-packages (from httpx<1,>=0.23.0->openai) (2024.2.2)\n",
            "Requirement already satisfied: httpcore==1.* in /usr/local/lib/python3.10/dist-packages (from httpx<1,>=0.23.0->openai) (1.0.5)\n",
            "Requirement already satisfied: h11<0.15,>=0.13 in /usr/local/lib/python3.10/dist-packages (from httpcore==1.*->httpx<1,>=0.23.0->openai) (0.14.0)\n",
            "Requirement already satisfied: annotated-types>=0.4.0 in /usr/local/lib/python3.10/dist-packages (from pydantic<3,>=1.9.0->openai) (0.6.0)\n",
            "Requirement already satisfied: pydantic-core==2.16.3 in /usr/local/lib/python3.10/dist-packages (from pydantic<3,>=1.9.0->openai) (2.16.3)\n"
          ]
        }
      ]
    },
    {
      "cell_type": "code",
      "source": [
        "pip install -r requirements.txt"
      ],
      "metadata": {
        "id": "ynDF-1X6x7dl"
      },
      "execution_count": null,
      "outputs": []
    },
    {
      "cell_type": "markdown",
      "metadata": {
        "id": "N2xD6LNxprzY"
      },
      "source": [
        "## Using Modules from Packages\n",
        "\n",
        "First, we need to install the packages using `pip`:\n",
        "\n",
        "```shell\n",
        "pip install pandas numpy\n",
        "```\n",
        "\n",
        "Then, you can import a module in your Python script using the `import` statement."
      ]
    },
    {
      "cell_type": "code",
      "execution_count": null,
      "metadata": {
        "id": "of9YXkOQprzY"
      },
      "outputs": [],
      "source": [
        "import pandas as pd\n",
        "import numpy as np\n",
        "\n",
        "# Create a simple dataset\n",
        "data = {\n",
        "    'Name': ['Alice', 'Bob', 'Charlie', 'David'],\n",
        "    'Age': [25, 30, 35, 40],\n",
        "    'Salary': [50000, 55000, 60000, 65000]\n",
        "}\n",
        "\n",
        "# Convert the dataset to a pandas DataFrame\n",
        "df = pd.DataFrame(data)\n",
        "\n",
        "# Calculate the mean of the Age column using numpy\n",
        "mean_age = np.mean(df['Age'])\n",
        "print(f'Mean Age: {mean_age}')\n",
        "\n",
        "# Calculate the sum of the Salary column using pandas\n",
        "total_salary = df['Salary'].sum()\n",
        "print(f'Total Salary: {total_salary}')\n",
        "\n",
        "# Add a new column named 'Salary_with_bonus' to the DataFrame\n",
        "df['Salary_with_bonus'] = df['Salary'] * 1.1\n",
        "print(df)"
      ]
    },
    {
      "cell_type": "markdown",
      "metadata": {
        "id": "ssTyl_PUprza"
      },
      "source": [
        "## Exercise Modules and Packages"
      ]
    },
    {
      "cell_type": "code",
      "execution_count": 3,
      "metadata": {
        "id": "MWriUzmkprza",
        "colab": {
          "base_uri": "https://localhost:8080/"
        },
        "outputId": "aee5144d-f3da-4e33-bb46-9e729b63aa01"
      },
      "outputs": [
        {
          "output_type": "stream",
          "name": "stdout",
          "text": [
            "Collecting rggrader\n",
            "  Downloading rggrader-0.1.6-py3-none-any.whl.metadata (485 bytes)\n",
            "Requirement already satisfied: requests in /usr/local/lib/python3.10/dist-packages (from rggrader) (2.31.0)\n",
            "Requirement already satisfied: pandas in /usr/local/lib/python3.10/dist-packages (from rggrader) (2.0.3)\n",
            "Requirement already satisfied: Pillow in /usr/local/lib/python3.10/dist-packages (from rggrader) (9.4.0)\n",
            "Requirement already satisfied: python-dateutil>=2.8.2 in /usr/local/lib/python3.10/dist-packages (from pandas->rggrader) (2.8.2)\n",
            "Requirement already satisfied: pytz>=2020.1 in /usr/local/lib/python3.10/dist-packages (from pandas->rggrader) (2023.4)\n",
            "Requirement already satisfied: tzdata>=2022.1 in /usr/local/lib/python3.10/dist-packages (from pandas->rggrader) (2024.1)\n",
            "Requirement already satisfied: numpy>=1.21.0 in /usr/local/lib/python3.10/dist-packages (from pandas->rggrader) (1.25.2)\n",
            "Requirement already satisfied: charset-normalizer<4,>=2 in /usr/local/lib/python3.10/dist-packages (from requests->rggrader) (3.3.2)\n",
            "Requirement already satisfied: idna<4,>=2.5 in /usr/local/lib/python3.10/dist-packages (from requests->rggrader) (3.7)\n",
            "Requirement already satisfied: urllib3<3,>=1.21.1 in /usr/local/lib/python3.10/dist-packages (from requests->rggrader) (2.0.7)\n",
            "Requirement already satisfied: certifi>=2017.4.17 in /usr/local/lib/python3.10/dist-packages (from requests->rggrader) (2024.7.4)\n",
            "Requirement already satisfied: six>=1.5 in /usr/local/lib/python3.10/dist-packages (from python-dateutil>=2.8.2->pandas->rggrader) (1.16.0)\n",
            "Downloading rggrader-0.1.6-py3-none-any.whl (2.5 kB)\n",
            "Installing collected packages: rggrader\n",
            "Successfully installed rggrader-0.1.6\n"
          ]
        }
      ],
      "source": [
        "!pip install rggrader"
      ]
    },
    {
      "cell_type": "code",
      "execution_count": 1,
      "metadata": {
        "id": "ziDCdNpgprza"
      },
      "outputs": [],
      "source": [
        "# @title #### Student Identity\n",
        "student_id = \"REAFFJLY\" # @param {type:\"string\"}\n",
        "name = \"Yudi Pratama Putra\" # @param {type:\"string\"}"
      ]
    },
    {
      "cell_type": "code",
      "source": [
        "from rggrader import submit"
      ],
      "metadata": {
        "id": "nINvb-M6xkVd"
      },
      "execution_count": 4,
      "outputs": []
    },
    {
      "cell_type": "code",
      "execution_count": 6,
      "metadata": {
        "id": "IuEkhWCPprza",
        "outputId": "fd7ab257-e7e6-413a-a600-f72b4d95d2fe",
        "colab": {
          "base_uri": "https://localhost:8080/",
          "height": 52
        }
      },
      "outputs": [
        {
          "output_type": "stream",
          "name": "stdout",
          "text": [
            "3.0\n"
          ]
        },
        {
          "output_type": "execute_result",
          "data": {
            "text/plain": [
              "'Assignment successfully submitted'"
            ],
            "application/vnd.google.colaboratory.intrinsic+json": {
              "type": "string"
            }
          },
          "metadata": {},
          "execution_count": 6
        }
      ],
      "source": [
        "# @title #### 00. Install and Use a Package\n",
        "from rggrader import submit\n",
        "\n",
        "# TODO:\n",
        "# 1. Import the numpy package with alias \"np\". Note: you do not need to install numpy using pip in this context, assume it is already installed.\n",
        "# 2. Use numpy's function that can calculate the average of the list [1, 2, 3, 4, 5] and assign the output to a variable named 'average'.\n",
        "import numpy as np\n",
        "\n",
        "# Put your code here:\n",
        "average = np.mean([1, 2, 3, 4, 5])\n",
        "print(average)\n",
        "\n",
        "# ---- End of your code ----\n",
        "\n",
        "# Do not modify the code below. It is used to submit your solution.\n",
        "assignment_id = \"05-modules-and-packages\"\n",
        "question_id = \"00_install_use_package\"\n",
        "submit(student_id, name, assignment_id, str(average), question_id)\n",
        "\n",
        "# Example:\n",
        "# Package: numpy with alias \"np\"\n",
        "# Function: Calculate the sum of the list [10, 20, 30, 40, 50]\n",
        "# Output: 150"
      ]
    },
    {
      "cell_type": "code",
      "execution_count": 8,
      "metadata": {
        "id": "WYd-Y-H_prza",
        "outputId": "65c8a9f2-59ba-4953-e863-3cd93ae30bfb",
        "colab": {
          "base_uri": "https://localhost:8080/",
          "height": 52
        }
      },
      "outputs": [
        {
          "output_type": "stream",
          "name": "stdout",
          "text": [
            "1.4142135623730951\n"
          ]
        },
        {
          "output_type": "execute_result",
          "data": {
            "text/plain": [
              "'Assignment successfully submitted'"
            ],
            "application/vnd.google.colaboratory.intrinsic+json": {
              "type": "string"
            }
          },
          "metadata": {},
          "execution_count": 8
        }
      ],
      "source": [
        "# @title #### 01. Standard Deviation of list elements\n",
        "from rggrader import submit\n",
        "\n",
        "# TODO:\n",
        "# 1. Import numpy package with alias \"np\".\n",
        "# 2. Use numpy's function that can calculate the standard deviation of elements in the list [1, 2, 3, 4, 5] and assign the output to a variable named 'std_dev'.\n",
        "\n",
        "\n",
        "# Put your code here:\n",
        "std_dev = np.std([1, 2, 3, 4, 5])\n",
        "print(std_dev)\n",
        "\n",
        "\n",
        "# ---- End of your code ----\n",
        "\n",
        "# Do not modify the code below. It is used to submit your solution.\n",
        "assignment_id = \"05-modules-and-packages\"\n",
        "question_id = \"02_std_dev_of_list\"\n",
        "submit(student_id, name, assignment_id, str(std_dev), question_id)\n",
        "\n",
        "# Example:\n",
        "# Package: numpy with alias \"np\"\n",
        "# Function: Calculate the standard deviation of the list [10, 20, 30, 40, 50]\n",
        "# Output: 14.142136"
      ]
    },
    {
      "cell_type": "code",
      "execution_count": 9,
      "metadata": {
        "id": "w03IQO-1przb",
        "outputId": "578bdb5e-da3d-40eb-e03c-39c25df664b8",
        "colab": {
          "base_uri": "https://localhost:8080/",
          "height": 104
        }
      },
      "outputs": [
        {
          "output_type": "stream",
          "name": "stdout",
          "text": [
            "      Name  Age\n",
            "0     Anna   21\n",
            "1      Bob   25\n",
            "2  Charlie   30\n"
          ]
        },
        {
          "output_type": "execute_result",
          "data": {
            "text/plain": [
              "'Assignment successfully submitted'"
            ],
            "application/vnd.google.colaboratory.intrinsic+json": {
              "type": "string"
            }
          },
          "metadata": {},
          "execution_count": 9
        }
      ],
      "source": [
        "# @title #### 02. Create a DataFrame using pandas\n",
        "from rggrader import submit\n",
        "\n",
        "# TODO:\n",
        "# 1. Import pandas package with alias \"pd\".\n",
        "# 2. Use pandas DataFrame constructor to create a DataFrame from the dictionary: {\"Name\": [\"Anna\", \"Bob\", \"Charlie\"], \"Age\": [21, 25, 30]}.\n",
        "#    Assign the output to a variable named 'df'.\n",
        "import pandas as pd\n",
        "\n",
        "# Put your code here:\n",
        "df = pd.DataFrame({\"Name\": [\"Anna\", \"Bob\", \"Charlie\"], \"Age\": [21, 25, 30]})\n",
        "print(df)\n",
        "\n",
        "\n",
        "# ---- End of your code ----\n",
        "\n",
        "# Do not modify the code below. It is used to submit your solution.\n",
        "assignment_id = \"05-modules-and-packages\"\n",
        "question_id = \"03_create_dataframe\"\n",
        "submit(student_id, name, assignment_id, df.to_string(), question_id)\n",
        "\n",
        "# Example:\n",
        "# Package: pandas with alias \"pd\"\n",
        "# Function: Create a DataFrame from the dictionary: {\"Country\": [\"Finland\", \"Sweden\", \"Norway\"], \"Population\": [5.5, 10.4, 5.4]}\n",
        "# Output:\n",
        "#    Country  |  Population\n",
        "#    Finland  |  5.5\n",
        "#    Sweden   |  10.4\n",
        "#    Norway   |  5.4"
      ]
    }
  ],
  "metadata": {
    "celltoolbar": "Slideshow",
    "kernelspec": {
      "display_name": "Python 3 (ipykernel)",
      "language": "python",
      "name": "python3"
    },
    "language_info": {
      "codemirror_mode": {
        "name": "ipython",
        "version": 3
      },
      "file_extension": ".py",
      "mimetype": "text/x-python",
      "name": "python",
      "nbconvert_exporter": "python",
      "pygments_lexer": "ipython3",
      "version": "3.11.3"
    },
    "colab": {
      "provenance": [],
      "include_colab_link": true
    }
  },
  "nbformat": 4,
  "nbformat_minor": 0
}